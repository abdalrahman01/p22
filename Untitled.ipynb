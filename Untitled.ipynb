{
 "cells": [
  {
   "cell_type": "code",
   "execution_count": 1,
   "id": "a4a98678-3a40-4592-9ee4-6190bf0ed438",
   "metadata": {},
   "outputs": [],
   "source": [
    "from transformers import AutoTokenizer, LlamaForCausalLM"
   ]
  },
  {
   "cell_type": "code",
   "execution_count": 3,
   "id": "373d4580-2ffe-4295-8df9-2f45b6bbbfa3",
   "metadata": {},
   "outputs": [],
   "source": [
    "model_name =  \"codellama/CodeLlama-7b-Python-hf\"\n"
   ]
  },
  {
   "cell_type": "code",
   "execution_count": 4,
   "id": "0dc583f1-a655-4852-a570-546d2e0f0327",
   "metadata": {},
   "outputs": [
    {
     "data": {
      "application/vnd.jupyter.widget-view+json": {
       "model_id": "6480c70b4a394f859b9c092ae1b84441",
       "version_major": 2,
       "version_minor": 0
      },
      "text/plain": [
       "Loading checkpoint shards:   0%|          | 0/2 [00:00<?, ?it/s]"
      ]
     },
     "metadata": {},
     "output_type": "display_data"
    }
   ],
   "source": [
    "from transformers import pipeline\n",
    "\n",
    "pipe = pipeline(\"text-generation\", model=model_name)"
   ]
  },
  {
   "cell_type": "code",
   "execution_count": null,
   "id": "f1d20918-5c4b-4945-a0df-bda6bb0e255a",
   "metadata": {},
   "outputs": [],
   "source": [
    "import os \n",
    "model_dir = \"./app/saved_models\"\n",
    "if not os.path.exists(model_dir):\n",
    "    os.mkdir(\"app\")\n",
    "    \n",
    "pipe.save_pretrained(model_dir) # save the model in a volume. "
   ]
  },
  {
   "cell_type": "code",
   "execution_count": 1,
   "id": "43f5e473-22fa-4639-9c47-f84f7bec8a4e",
   "metadata": {},
   "outputs": [
    {
     "name": "stdout",
     "output_type": "stream",
     "text": [
      "Model directory not found. Downloading the model...\n"
     ]
    },
    {
     "ename": "NameError",
     "evalue": "name 'pipeline' is not defined",
     "output_type": "error",
     "traceback": [
      "\u001b[0;31m---------------------------------------------------------------------------\u001b[0m",
      "\u001b[0;31mNameError\u001b[0m                                 Traceback (most recent call last)",
      "Cell \u001b[0;32mIn[1], line 8\u001b[0m\n\u001b[1;32m      6\u001b[0m \u001b[38;5;28mprint\u001b[39m(\u001b[38;5;124m\"\u001b[39m\u001b[38;5;124mModel directory not found. Downloading the model...\u001b[39m\u001b[38;5;124m\"\u001b[39m)\n\u001b[1;32m      7\u001b[0m \u001b[38;5;66;03m# Download the model\u001b[39;00m\n\u001b[0;32m----> 8\u001b[0m pipe \u001b[38;5;241m=\u001b[39m \u001b[43mpipeline\u001b[49m(\u001b[38;5;124m\"\u001b[39m\u001b[38;5;124mtext-generation\u001b[39m\u001b[38;5;124m\"\u001b[39m, model\u001b[38;5;241m=\u001b[39mmodel_name)\n\u001b[1;32m      9\u001b[0m \u001b[38;5;66;03m# Save the downloaded model to the specified directory\u001b[39;00m\n\u001b[1;32m     10\u001b[0m pipe\u001b[38;5;241m.\u001b[39msave_pretrained(model_directory)\n",
      "\u001b[0;31mNameError\u001b[0m: name 'pipeline' is not defined"
     ]
    }
   ],
   "source": [
    "# Define the path to the locally saved model directory\n",
    "model_directory = \"/app/saved_models\"\n",
    "import os\n",
    "# Check if the directory exists\n",
    "if not os.path.exists(model_directory):\n",
    "    print(\"Model directory not found. Downloading the model...\")\n",
    "    # Download the model\n",
    "    pipe = pipeline(\"text-generation\", model=model_name)\n",
    "    # Save the downloaded model to the specified directory\n",
    "    pipe.save_pretrained(model_directory)\n",
    "else:\n",
    "    # Load the model from the local directory\n",
    "    pipe = pipeline(\"text-generation\", model=model_directory)"
   ]
  },
  {
   "cell_type": "code",
   "execution_count": null,
   "id": "ca8dcd39-17b6-4fc9-b3c1-3225829fbad6",
   "metadata": {},
   "outputs": [],
   "source": []
  }
 ],
 "metadata": {
  "kernelspec": {
   "display_name": "Python 3 (ipykernel)",
   "language": "python",
   "name": "python3"
  },
  "language_info": {
   "codemirror_mode": {
    "name": "ipython",
    "version": 3
   },
   "file_extension": ".py",
   "mimetype": "text/x-python",
   "name": "python",
   "nbconvert_exporter": "python",
   "pygments_lexer": "ipython3",
   "version": "3.10.14"
  }
 },
 "nbformat": 4,
 "nbformat_minor": 5
}
